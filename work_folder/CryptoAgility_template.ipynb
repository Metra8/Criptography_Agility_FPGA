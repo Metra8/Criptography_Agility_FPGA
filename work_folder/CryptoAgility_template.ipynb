{
  "cells": [
    {
      "cell_type": "markdown",
      "metadata": {},
      "source": [
        "# 💡 Cripto-Agilidad: AES y Kyber\n",
        "Este notebook permite experimentar con cripto-agilidad, seleccionando dinámicamente entre algoritmos criptográficos (AES y Kyber) implementados en VHDL."
      ]
    },
    {
      "cell_type": "markdown",
      "metadata": {},
      "source": [
        "## 🔐 Criterios de cripto-agilidad\n",
        "- Selección dinámica del algoritmo\n",
        "- Interfaz común AES/Kyber\n",
        "- Compatibilidad estándar\n",
        "- Capacidad de expansión futura\n"
      ]
    },
    {
      "cell_type": "code",
      "execution_count": null,
      "metadata": {},
      "outputs": [],
      "source": [
        "# Configuración del entorno\n",
        "from pathlib import Path\n",
        "import subprocess\n",
        "\n",
        "WORKDIR = Path(\"crypto_build\")\n",
        "WORKDIR.mkdir(exist_ok=True)\n",
        "\n",
        "# Ruta a tus fuentes VHDL\n",
        "AES_VHD_PATH = Path(\"aes_128.vhd\")\n",
        "KYBER_VHD_PATH = Path(\"kyber.vhd\")\n"
      ]
    },
    {
      "cell_type": "markdown",
      "metadata": {},
      "source": [
        "## ⚙️ Interfaz común para cifrado\n",
        "Ambos algoritmos responderán a una interfaz estándar:"
      ]
    },
    {
      "cell_type": "markdown",
      "metadata": {},
      "source": [
        "```vhdl\n",
        "entity crypto_core is\n",
        "    Port(\n",
        "        clk       : in std_logic;\n",
        "        reset     : in std_logic;\n",
        "        enable    : in std_logic;\n",
        "        key       : in std_logic_vector(...);\n",
        "        data_in   : in std_logic_vector(...);\n",
        "        data_out  : out std_logic_vector(...);\n",
        "        ready     : out std_logic;\n",
        "        algorithm_select : in std_logic_vector(1 downto 0) -- 00 = AES, 01 = Kyber\n",
        "    );\n",
        "end entity;\n",
        "```"
      ]
    },
    {
      "cell_type": "code",
      "execution_count": null,
      "metadata": {},
      "outputs": [],
      "source": [
        "# Función para simular con GHDL\n",
        "def simulate_crypto(vhdl_files, tb_file):\n",
        "    for file in vhdl_files:\n",
        "        subprocess.run([\"ghdl\", \"-a\", str(file)], check=True)\n",
        "    subprocess.run([\"ghdl\", \"-a\", str(tb_file)], check=True)\n",
        "    subprocess.run([\"ghdl\", \"-e\", \"testbench\"], check=True)\n",
        "    result = subprocess.run([\"ghdl\", \"-r\", \"testbench\", \"--vcd=wave.vcd\"], capture_output=True, text=True)\n",
        "    return result.stdout\n"
      ]
    },
    {
      "cell_type": "markdown",
      "metadata": {},
      "source": [
        "## ✅ Test AES con clave fija"
      ]
    },
    {
      "cell_type": "code",
      "execution_count": null,
      "metadata": {},
      "outputs": [],
      "source": [
        "# Aquí insertaremos un banco de pruebas para AES\n",
        "# Esto se conecta con tu diseño actual en `aes_128.vhd`\n",
        "\n",
        "# simulate_crypto([AES_VHD_PATH], Path(\"aes_tb.vhd\"))\n"
      ]
    },
    {
      "cell_type": "markdown",
      "metadata": {},
      "source": [
        "## ⏳ Preparación para Kyber\n",
        "Cuando se implemente `kyber.vhd`, este notebook puede expandirse automáticamente para incluirlo en la selección dinámica.\n"
      ]
    }
  ],
  "metadata": {
    "kernelspec": {
      "display_name": "base",
      "language": "python",
      "name": "python3"
    },
    "language_info": {
      "codemirror_mode": {
        "name": "ipython",
        "version": 3
      },
      "file_extension": ".py",
      "mimetype": "text/x-python",
      "name": "python",
      "nbconvert_exporter": "python",
      "pygments_lexer": "ipython3",
      "version": "3.12.7"
    }
  },
  "nbformat": 4,
  "nbformat_minor": 5
}
