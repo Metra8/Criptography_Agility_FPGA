{
  "cells": [
    {
      "cell_type": "markdown",
      "metadata": {},
      "source": "# \ud83d\udca1 Cripto-Agilidad: AES y Kyber\nEste notebook permite experimentar con cripto-agilidad, seleccionando din\u00e1micamente entre algoritmos criptogr\u00e1ficos (AES y Kyber) implementados en VHDL."
    },
    {
      "cell_type": "markdown",
      "metadata": {},
      "source": "## \ud83d\udd10 Criterios de cripto-agilidad\n- Selecci\u00f3n din\u00e1mica del algoritmo\n- Interfaz com\u00fan AES/Kyber\n- Compatibilidad est\u00e1ndar\n- Capacidad de expansi\u00f3n futura\n"
    },
    {
      "cell_type": "code",
      "metadata": {},
      "execution_count": null,
      "outputs": [],
      "source": "# Configuraci\u00f3n del entorno\nfrom pathlib import Path\nimport subprocess\n\nWORKDIR = Path(\"crypto_build\")\nWORKDIR.mkdir(exist_ok=True)\n\n# Ruta a tus fuentes VHDL\nAES_VHD_PATH = Path(\"aes_128.vhd\")\nKYBER_VHD_PATH = Path(\"kyber.vhd\")  # futuro\n"
    },
    {
      "cell_type": "markdown",
      "metadata": {},
      "source": "## \u2699\ufe0f Interfaz com\u00fan para cifrado\nAmbos algoritmos responder\u00e1n a una interfaz est\u00e1ndar:"
    },
    {
      "cell_type": "markdown",
      "metadata": {},
      "source": "```vhdl\nentity crypto_core is\n    Port(\n        clk       : in std_logic;\n        reset     : in std_logic;\n        enable    : in std_logic;\n        key       : in std_logic_vector(...);\n        data_in   : in std_logic_vector(...);\n        data_out  : out std_logic_vector(...);\n        ready     : out std_logic;\n        algorithm_select : in std_logic_vector(1 downto 0) -- 00 = AES, 01 = Kyber\n    );\nend entity;\n```"
    },
    {
      "cell_type": "code",
      "metadata": {},
      "execution_count": null,
      "outputs": [],
      "source": "# Funci\u00f3n para simular con GHDL\ndef simulate_crypto(vhdl_files, tb_file):\n    for file in vhdl_files:\n        subprocess.run([\"ghdl\", \"-a\", str(file)], check=True)\n    subprocess.run([\"ghdl\", \"-a\", str(tb_file)], check=True)\n    subprocess.run([\"ghdl\", \"-e\", \"testbench\"], check=True)\n    result = subprocess.run([\"ghdl\", \"-r\", \"testbench\", \"--vcd=wave.vcd\"], capture_output=True, text=True)\n    return result.stdout"
    },
    {
      "cell_type": "markdown",
      "metadata": {},
      "source": "## \u2705 Test AES con clave fija"
    },
    {
      "cell_type": "code",
      "metadata": {},
      "execution_count": null,
      "outputs": [],
      "source": "# Aqu\u00ed insertaremos un banco de pruebas para AES\n# Esto se conecta con tu dise\u00f1o actual en `aes_128.vhd`\n\n# simulate_crypto([AES_VHD_PATH], Path(\"aes_tb.vhd\"))"
    },
    {
      "cell_type": "markdown",
      "metadata": {},
      "source": "## \u23f3 Preparaci\u00f3n para Kyber\nCuando se implemente `kyber.vhd`, este notebook puede expandirse autom\u00e1ticamente para incluirlo en la selecci\u00f3n din\u00e1mica.\n"
    }
  ],
  "metadata": {
    "kernelspec": {
      "display_name": "Python 3",
      "language": "python",
      "name": "python3"
    },
    "language_info": {
      "name": "python",
      "version": "3.8"
    }
  },
  "nbformat": 4,
  "nbformat_minor": 5
}